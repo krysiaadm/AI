{
  "cells": [
    {
      "cell_type": "markdown",
      "source": [
        "# Przed rozpoczęciem\n",
        "\n",
        "* Stwórz nowy compute lub użyj istniejącego compute w wersji: `Standard_F16s_v2`\n",
        "* Wybierz kernel `Python 3.8 - AzureML`"
      ],
      "metadata": {
        "nteract": {
          "transient": {
            "deleting": false
          }
        }
      }
    },
    {
      "cell_type": "markdown",
      "source": [
        "# Przygotowanie środowiska\n",
        "\n",
        "* Ta komórka nie zawiera kodu w pythonie, tylko wywołania `pip` w shellu terminalowym\n",
        "* Przeinstalowujemy `tensorflow`, które już jest obecne w kernelu `AzureML` w wersji, która nie będzie rzucać błędami\n",
        "* Instalujemy następujące biblioteki:\n",
        "    * `sentence-transformers` - na potrzeby embeddera\n",
        "    * `qdrant-client` - do komunikacji z wektorową bazą danych\n",
        "    * `openai` - do komunikacji z API OpenAI"
      ],
      "metadata": {
        "nteract": {
          "transient": {
            "deleting": false
          }
        }
      }
    },
    {
      "cell_type": "code",
      "source": [
        "!pip install tensorflow-cpu==2.16.1\n",
        "!pip install tf-keras==2.16.0 --no-dependencies\n",
        "!pip install sentence-transformers\n",
        "!pip install ctransformers\n",
        "!pip install qdrant-client\n",
        "!pip install openai"
      ],
      "outputs": [
        {
          "output_type": "stream",
          "name": "stdout",
          "text": "Requirement already satisfied: tensorflow-cpu==2.16.1 in /anaconda/envs/azureml_py38/lib/python3.10/site-packages (2.16.1)\nRequirement already satisfied: six>=1.12.0 in /anaconda/envs/azureml_py38/lib/python3.10/site-packages (from tensorflow-cpu==2.16.1) (1.16.0)\nCollecting protobuf!=4.21.0,!=4.21.1,!=4.21.2,!=4.21.3,!=4.21.4,!=4.21.5,<5.0.0dev,>=3.20.3\n  Using cached protobuf-4.25.5-cp37-abi3-manylinux2014_x86_64.whl (294 kB)\nRequirement already satisfied: packaging in /anaconda/envs/azureml_py38/lib/python3.10/site-packages (from tensorflow-cpu==2.16.1) (24.1)\nRequirement already satisfied: astunparse>=1.6.0 in /anaconda/envs/azureml_py38/lib/python3.10/site-packages (from tensorflow-cpu==2.16.1) (1.6.3)\nRequirement already satisfied: keras>=3.0.0 in /anaconda/envs/azureml_py38/lib/python3.10/site-packages (from tensorflow-cpu==2.16.1) (3.5.0)\nRequirement already satisfied: libclang>=13.0.0 in /anaconda/envs/azureml_py38/lib/python3.10/site-packages (from tensorflow-cpu==2.16.1) (18.1.1)\nRequirement already satisfied: termcolor>=1.1.0 in /anaconda/envs/azureml_py38/lib/python3.10/site-packages (from tensorflow-cpu==2.16.1) (2.4.0)\nRequirement already satisfied: h5py>=3.10.0 in /anaconda/envs/azureml_py38/lib/python3.10/site-packages (from tensorflow-cpu==2.16.1) (3.11.0)\nRequirement already satisfied: requests<3,>=2.21.0 in /anaconda/envs/azureml_py38/lib/python3.10/site-packages (from tensorflow-cpu==2.16.1) (2.32.3)\nRequirement already satisfied: setuptools in /anaconda/envs/azureml_py38/lib/python3.10/site-packages (from tensorflow-cpu==2.16.1) (68.0.0)\nRequirement already satisfied: tensorboard<2.17,>=2.16 in /anaconda/envs/azureml_py38/lib/python3.10/site-packages (from tensorflow-cpu==2.16.1) (2.16.2)\nRequirement already satisfied: ml-dtypes~=0.3.1 in /anaconda/envs/azureml_py38/lib/python3.10/site-packages (from tensorflow-cpu==2.16.1) (0.3.2)\nRequirement already satisfied: opt-einsum>=2.3.2 in /anaconda/envs/azureml_py38/lib/python3.10/site-packages (from tensorflow-cpu==2.16.1) (3.3.0)\nRequirement already satisfied: grpcio<2.0,>=1.24.3 in /anaconda/envs/azureml_py38/lib/python3.10/site-packages (from tensorflow-cpu==2.16.1) (1.68.0)\nRequirement already satisfied: wrapt>=1.11.0 in /anaconda/envs/azureml_py38/lib/python3.10/site-packages (from tensorflow-cpu==2.16.1) (1.14.1)\nRequirement already satisfied: absl-py>=1.0.0 in /anaconda/envs/azureml_py38/lib/python3.10/site-packages (from tensorflow-cpu==2.16.1) (2.1.0)\nRequirement already satisfied: typing-extensions>=3.6.6 in /anaconda/envs/azureml_py38/lib/python3.10/site-packages (from tensorflow-cpu==2.16.1) (4.12.2)\nRequirement already satisfied: numpy<2.0.0,>=1.23.5 in /anaconda/envs/azureml_py38/lib/python3.10/site-packages (from tensorflow-cpu==2.16.1) (1.23.5)\nRequirement already satisfied: google-pasta>=0.1.1 in /anaconda/envs/azureml_py38/lib/python3.10/site-packages (from tensorflow-cpu==2.16.1) (0.2.0)\nRequirement already satisfied: tensorflow-io-gcs-filesystem>=0.23.1 in /anaconda/envs/azureml_py38/lib/python3.10/site-packages (from tensorflow-cpu==2.16.1) (0.37.1)\nRequirement already satisfied: gast!=0.5.0,!=0.5.1,!=0.5.2,>=0.2.1 in /anaconda/envs/azureml_py38/lib/python3.10/site-packages (from tensorflow-cpu==2.16.1) (0.6.0)\nRequirement already satisfied: flatbuffers>=23.5.26 in /anaconda/envs/azureml_py38/lib/python3.10/site-packages (from tensorflow-cpu==2.16.1) (24.3.25)\nRequirement already satisfied: wheel<1.0,>=0.23.0 in /anaconda/envs/azureml_py38/lib/python3.10/site-packages (from astunparse>=1.6.0->tensorflow-cpu==2.16.1) (0.41.2)\nRequirement already satisfied: optree in /anaconda/envs/azureml_py38/lib/python3.10/site-packages (from keras>=3.0.0->tensorflow-cpu==2.16.1) (0.12.1)\nRequirement already satisfied: rich in /anaconda/envs/azureml_py38/lib/python3.10/site-packages (from keras>=3.0.0->tensorflow-cpu==2.16.1) (13.8.1)\nRequirement already satisfied: namex in /anaconda/envs/azureml_py38/lib/python3.10/site-packages (from keras>=3.0.0->tensorflow-cpu==2.16.1) (0.0.8)\nRequirement already satisfied: charset-normalizer<4,>=2 in /anaconda/envs/azureml_py38/lib/python3.10/site-packages (from requests<3,>=2.21.0->tensorflow-cpu==2.16.1) (3.3.2)\nRequirement already satisfied: urllib3<3,>=1.21.1 in /anaconda/envs/azureml_py38/lib/python3.10/site-packages (from requests<3,>=2.21.0->tensorflow-cpu==2.16.1) (1.26.19)\nRequirement already satisfied: certifi>=2017.4.17 in /anaconda/envs/azureml_py38/lib/python3.10/site-packages (from requests<3,>=2.21.0->tensorflow-cpu==2.16.1) (2024.8.30)\nRequirement already satisfied: idna<4,>=2.5 in /anaconda/envs/azureml_py38/lib/python3.10/site-packages (from requests<3,>=2.21.0->tensorflow-cpu==2.16.1) (3.7)\nRequirement already satisfied: tensorboard-data-server<0.8.0,>=0.7.0 in /anaconda/envs/azureml_py38/lib/python3.10/site-packages (from tensorboard<2.17,>=2.16->tensorflow-cpu==2.16.1) (0.7.2)\nRequirement already satisfied: werkzeug>=1.0.1 in /anaconda/envs/azureml_py38/lib/python3.10/site-packages (from tensorboard<2.17,>=2.16->tensorflow-cpu==2.16.1) (3.0.3)\nRequirement already satisfied: markdown>=2.6.8 in /anaconda/envs/azureml_py38/lib/python3.10/site-packages (from tensorboard<2.17,>=2.16->tensorflow-cpu==2.16.1) (3.7)\nRequirement already satisfied: MarkupSafe>=2.1.1 in /anaconda/envs/azureml_py38/lib/python3.10/site-packages (from werkzeug>=1.0.1->tensorboard<2.17,>=2.16->tensorflow-cpu==2.16.1) (2.1.5)\nRequirement already satisfied: pygments<3.0.0,>=2.13.0 in /anaconda/envs/azureml_py38/lib/python3.10/site-packages (from rich->keras>=3.0.0->tensorflow-cpu==2.16.1) (2.18.0)\nRequirement already satisfied: markdown-it-py>=2.2.0 in /anaconda/envs/azureml_py38/lib/python3.10/site-packages (from rich->keras>=3.0.0->tensorflow-cpu==2.16.1) (3.0.0)\nRequirement already satisfied: mdurl~=0.1 in /anaconda/envs/azureml_py38/lib/python3.10/site-packages (from markdown-it-py>=2.2.0->rich->keras>=3.0.0->tensorflow-cpu==2.16.1) (0.1.2)\nInstalling collected packages: protobuf\n  Attempting uninstall: protobuf\n    Found existing installation: protobuf 5.28.3\n    Uninstalling protobuf-5.28.3:\n      Successfully uninstalled protobuf-5.28.3\n\u001b[31mERROR: pip's dependency resolver does not currently take into account all the packages that are installed. This behaviour is the source of the following dependency conflicts.\ntensorflow 2.17.0 requires tensorboard<2.18,>=2.17, but you have tensorboard 2.16.2 which is incompatible.\nmlflow-skinny 2.15.0 requires importlib-metadata!=4.7.0,<8,>=3.7.0, but you have importlib-metadata 8.2.0 which is incompatible.\ngrpcio-tools 1.68.0 requires protobuf<6.0dev,>=5.26.1, but you have protobuf 4.25.5 which is incompatible.\nazureml-automl-runtime 1.57.0 requires protobuf<=3.20.3, but you have protobuf 4.25.5 which is incompatible.\nazureml-automl-dnn-nlp 1.57.0 requires torch==1.13.1, but you have torch 2.4.1 which is incompatible.\nazureml-automl-dnn-nlp 1.57.0 requires transformers[sentencepiece,torch]<=4.36.2, but you have transformers 4.46.2 which is incompatible.\u001b[0m\u001b[31m\n\u001b[0mSuccessfully installed protobuf-4.25.5\nRequirement already satisfied: tf-keras==2.16.0 in /anaconda/envs/azureml_py38/lib/python3.10/site-packages (2.16.0)\nRequirement already satisfied: sentence-transformers in /anaconda/envs/azureml_py38/lib/python3.10/site-packages (3.3.0)\nRequirement already satisfied: torch>=1.11.0 in /anaconda/envs/azureml_py38/lib/python3.10/site-packages (from sentence-transformers) (2.4.1)\nRequirement already satisfied: tqdm in /anaconda/envs/azureml_py38/lib/python3.10/site-packages (from sentence-transformers) (4.66.4)\nRequirement already satisfied: huggingface-hub>=0.20.0 in /anaconda/envs/azureml_py38/lib/python3.10/site-packages (from sentence-transformers) (0.24.5)\nRequirement already satisfied: scipy in /anaconda/envs/azureml_py38/lib/python3.10/site-packages (from sentence-transformers) (1.10.1)\nRequirement already satisfied: scikit-learn in /anaconda/envs/azureml_py38/lib/python3.10/site-packages (from sentence-transformers) (1.5.1)\nRequirement already satisfied: Pillow in /anaconda/envs/azureml_py38/lib/python3.10/site-packages (from sentence-transformers) (9.2.0)\nRequirement already satisfied: transformers<5.0.0,>=4.41.0 in /anaconda/envs/azureml_py38/lib/python3.10/site-packages (from sentence-transformers) (4.46.2)\nRequirement already satisfied: fsspec>=2023.5.0 in /anaconda/envs/azureml_py38/lib/python3.10/site-packages (from huggingface-hub>=0.20.0->sentence-transformers) (2023.10.0)\nRequirement already satisfied: requests in /anaconda/envs/azureml_py38/lib/python3.10/site-packages (from huggingface-hub>=0.20.0->sentence-transformers) (2.32.3)\nRequirement already satisfied: typing-extensions>=3.7.4.3 in /anaconda/envs/azureml_py38/lib/python3.10/site-packages (from huggingface-hub>=0.20.0->sentence-transformers) (4.12.2)\nRequirement already satisfied: pyyaml>=5.1 in /anaconda/envs/azureml_py38/lib/python3.10/site-packages (from huggingface-hub>=0.20.0->sentence-transformers) (6.0.1)\nRequirement already satisfied: filelock in /anaconda/envs/azureml_py38/lib/python3.10/site-packages (from huggingface-hub>=0.20.0->sentence-transformers) (3.15.4)\nRequirement already satisfied: packaging>=20.9 in /anaconda/envs/azureml_py38/lib/python3.10/site-packages (from huggingface-hub>=0.20.0->sentence-transformers) (24.1)\nRequirement already satisfied: nvidia-cufft-cu12==11.0.2.54 in /anaconda/envs/azureml_py38/lib/python3.10/site-packages (from torch>=1.11.0->sentence-transformers) (11.0.2.54)\nRequirement already satisfied: nvidia-cusolver-cu12==11.4.5.107 in /anaconda/envs/azureml_py38/lib/python3.10/site-packages (from torch>=1.11.0->sentence-transformers) (11.4.5.107)\nRequirement already satisfied: nvidia-cuda-runtime-cu12==12.1.105 in /anaconda/envs/azureml_py38/lib/python3.10/site-packages (from torch>=1.11.0->sentence-transformers) (12.1.105)\nRequirement already satisfied: nvidia-cublas-cu12==12.1.3.1 in /anaconda/envs/azureml_py38/lib/python3.10/site-packages (from torch>=1.11.0->sentence-transformers) (12.1.3.1)\nRequirement already satisfied: nvidia-cuda-nvrtc-cu12==12.1.105 in /anaconda/envs/azureml_py38/lib/python3.10/site-packages (from torch>=1.11.0->sentence-transformers) (12.1.105)\nRequirement already satisfied: nvidia-cudnn-cu12==9.1.0.70 in /anaconda/envs/azureml_py38/lib/python3.10/site-packages (from torch>=1.11.0->sentence-transformers) (9.1.0.70)\nRequirement already satisfied: nvidia-nccl-cu12==2.20.5 in /anaconda/envs/azureml_py38/lib/python3.10/site-packages (from torch>=1.11.0->sentence-transformers) (2.20.5)\nRequirement already satisfied: triton==3.0.0 in /anaconda/envs/azureml_py38/lib/python3.10/site-packages (from torch>=1.11.0->sentence-transformers) (3.0.0)\nRequirement already satisfied: sympy in /anaconda/envs/azureml_py38/lib/python3.10/site-packages (from torch>=1.11.0->sentence-transformers) (1.13.1)\nRequirement already satisfied: jinja2 in /anaconda/envs/azureml_py38/lib/python3.10/site-packages (from torch>=1.11.0->sentence-transformers) (3.1.4)\nRequirement already satisfied: nvidia-cusparse-cu12==12.1.0.106 in /anaconda/envs/azureml_py38/lib/python3.10/site-packages (from torch>=1.11.0->sentence-transformers) (12.1.0.106)\nRequirement already satisfied: nvidia-nvtx-cu12==12.1.105 in /anaconda/envs/azureml_py38/lib/python3.10/site-packages (from torch>=1.11.0->sentence-transformers) (12.1.105)\nRequirement already satisfied: nvidia-cuda-cupti-cu12==12.1.105 in /anaconda/envs/azureml_py38/lib/python3.10/site-packages (from torch>=1.11.0->sentence-transformers) (12.1.105)\nRequirement already satisfied: networkx in /anaconda/envs/azureml_py38/lib/python3.10/site-packages (from torch>=1.11.0->sentence-transformers) (3.3)\nRequirement already satisfied: nvidia-curand-cu12==10.3.2.106 in /anaconda/envs/azureml_py38/lib/python3.10/site-packages (from torch>=1.11.0->sentence-transformers) (10.3.2.106)\nRequirement already satisfied: nvidia-nvjitlink-cu12 in /anaconda/envs/azureml_py38/lib/python3.10/site-packages (from nvidia-cusolver-cu12==11.4.5.107->torch>=1.11.0->sentence-transformers) (12.6.68)\nRequirement already satisfied: regex!=2019.12.17 in /anaconda/envs/azureml_py38/lib/python3.10/site-packages (from transformers<5.0.0,>=4.41.0->sentence-transformers) (2024.7.24)\nRequirement already satisfied: numpy>=1.17 in /anaconda/envs/azureml_py38/lib/python3.10/site-packages (from transformers<5.0.0,>=4.41.0->sentence-transformers) (1.23.5)\nRequirement already satisfied: tokenizers<0.21,>=0.20 in /anaconda/envs/azureml_py38/lib/python3.10/site-packages (from transformers<5.0.0,>=4.41.0->sentence-transformers) (0.20.3)\nRequirement already satisfied: safetensors>=0.4.1 in /anaconda/envs/azureml_py38/lib/python3.10/site-packages (from transformers<5.0.0,>=4.41.0->sentence-transformers) (0.4.4)\nRequirement already satisfied: joblib>=1.2.0 in /anaconda/envs/azureml_py38/lib/python3.10/site-packages (from scikit-learn->sentence-transformers) (1.2.0)\nRequirement already satisfied: threadpoolctl>=3.1.0 in /anaconda/envs/azureml_py38/lib/python3.10/site-packages (from scikit-learn->sentence-transformers) (3.5.0)\nRequirement already satisfied: MarkupSafe>=2.0 in /anaconda/envs/azureml_py38/lib/python3.10/site-packages (from jinja2->torch>=1.11.0->sentence-transformers) (2.1.5)\nRequirement already satisfied: charset-normalizer<4,>=2 in /anaconda/envs/azureml_py38/lib/python3.10/site-packages (from requests->huggingface-hub>=0.20.0->sentence-transformers) (3.3.2)\nRequirement already satisfied: certifi>=2017.4.17 in /anaconda/envs/azureml_py38/lib/python3.10/site-packages (from requests->huggingface-hub>=0.20.0->sentence-transformers) (2024.8.30)\nRequirement already satisfied: idna<4,>=2.5 in /anaconda/envs/azureml_py38/lib/python3.10/site-packages (from requests->huggingface-hub>=0.20.0->sentence-transformers) (3.7)\nRequirement already satisfied: urllib3<3,>=1.21.1 in /anaconda/envs/azureml_py38/lib/python3.10/site-packages (from requests->huggingface-hub>=0.20.0->sentence-transformers) (1.26.19)\nRequirement already satisfied: mpmath<1.4,>=1.1.0 in /anaconda/envs/azureml_py38/lib/python3.10/site-packages (from sympy->torch>=1.11.0->sentence-transformers) (1.3.0)\nRequirement already satisfied: ctransformers in /anaconda/envs/azureml_py38/lib/python3.10/site-packages (0.2.27)\nRequirement already satisfied: py-cpuinfo<10.0.0,>=9.0.0 in /anaconda/envs/azureml_py38/lib/python3.10/site-packages (from ctransformers) (9.0.0)\nRequirement already satisfied: huggingface-hub in /anaconda/envs/azureml_py38/lib/python3.10/site-packages (from ctransformers) (0.24.5)\nRequirement already satisfied: fsspec>=2023.5.0 in /anaconda/envs/azureml_py38/lib/python3.10/site-packages (from huggingface-hub->ctransformers) (2023.10.0)\nRequirement already satisfied: filelock in /anaconda/envs/azureml_py38/lib/python3.10/site-packages (from huggingface-hub->ctransformers) (3.15.4)\nRequirement already satisfied: tqdm>=4.42.1 in /anaconda/envs/azureml_py38/lib/python3.10/site-packages (from huggingface-hub->ctransformers) (4.66.4)\nRequirement already satisfied: typing-extensions>=3.7.4.3 in /anaconda/envs/azureml_py38/lib/python3.10/site-packages (from huggingface-hub->ctransformers) (4.12.2)\nRequirement already satisfied: pyyaml>=5.1 in /anaconda/envs/azureml_py38/lib/python3.10/site-packages (from huggingface-hub->ctransformers) (6.0.1)\nRequirement already satisfied: requests in /anaconda/envs/azureml_py38/lib/python3.10/site-packages (from huggingface-hub->ctransformers) (2.32.3)\nRequirement already satisfied: packaging>=20.9 in /anaconda/envs/azureml_py38/lib/python3.10/site-packages (from huggingface-hub->ctransformers) (24.1)\nRequirement already satisfied: certifi>=2017.4.17 in /anaconda/envs/azureml_py38/lib/python3.10/site-packages (from requests->huggingface-hub->ctransformers) (2024.8.30)\nRequirement already satisfied: idna<4,>=2.5 in /anaconda/envs/azureml_py38/lib/python3.10/site-packages (from requests->huggingface-hub->ctransformers) (3.7)\nRequirement already satisfied: urllib3<3,>=1.21.1 in /anaconda/envs/azureml_py38/lib/python3.10/site-packages (from requests->huggingface-hub->ctransformers) (1.26.19)\nRequirement already satisfied: charset-normalizer<4,>=2 in /anaconda/envs/azureml_py38/lib/python3.10/site-packages (from requests->huggingface-hub->ctransformers) (3.3.2)\nRequirement already satisfied: qdrant-client in /anaconda/envs/azureml_py38/lib/python3.10/site-packages (1.12.1)\nRequirement already satisfied: numpy>=1.21 in /anaconda/envs/azureml_py38/lib/python3.10/site-packages (from qdrant-client) (1.23.5)\nRequirement already satisfied: urllib3<3,>=1.26.14 in /anaconda/envs/azureml_py38/lib/python3.10/site-packages (from qdrant-client) (1.26.19)\nRequirement already satisfied: pydantic>=1.10.8 in /anaconda/envs/azureml_py38/lib/python3.10/site-packages (from qdrant-client) (2.8.2)\nRequirement already satisfied: portalocker<3.0.0,>=2.7.0 in /anaconda/envs/azureml_py38/lib/python3.10/site-packages (from qdrant-client) (2.10.1)\nRequirement already satisfied: grpcio-tools>=1.41.0 in /anaconda/envs/azureml_py38/lib/python3.10/site-packages (from qdrant-client) (1.68.0)\nRequirement already satisfied: grpcio>=1.41.0 in /anaconda/envs/azureml_py38/lib/python3.10/site-packages (from qdrant-client) (1.68.0)\nRequirement already satisfied: httpx[http2]>=0.20.0 in /anaconda/envs/azureml_py38/lib/python3.10/site-packages (from qdrant-client) (0.27.2)\nRequirement already satisfied: setuptools in /anaconda/envs/azureml_py38/lib/python3.10/site-packages (from grpcio-tools>=1.41.0->qdrant-client) (68.0.0)\nCollecting protobuf<6.0dev,>=5.26.1\n  Using cached protobuf-5.28.3-cp38-abi3-manylinux2014_x86_64.whl (316 kB)\nRequirement already satisfied: idna in /anaconda/envs/azureml_py38/lib/python3.10/site-packages (from httpx[http2]>=0.20.0->qdrant-client) (3.7)\nRequirement already satisfied: anyio in /anaconda/envs/azureml_py38/lib/python3.10/site-packages (from httpx[http2]>=0.20.0->qdrant-client) (4.6.0)\nRequirement already satisfied: sniffio in /anaconda/envs/azureml_py38/lib/python3.10/site-packages (from httpx[http2]>=0.20.0->qdrant-client) (1.3.1)\nRequirement already satisfied: httpcore==1.* in /anaconda/envs/azureml_py38/lib/python3.10/site-packages (from httpx[http2]>=0.20.0->qdrant-client) (1.0.5)\nRequirement already satisfied: certifi in /anaconda/envs/azureml_py38/lib/python3.10/site-packages (from httpx[http2]>=0.20.0->qdrant-client) (2024.8.30)\nRequirement already satisfied: h2<5,>=3 in /anaconda/envs/azureml_py38/lib/python3.10/site-packages (from httpx[http2]>=0.20.0->qdrant-client) (4.1.0)\nRequirement already satisfied: h11<0.15,>=0.13 in /anaconda/envs/azureml_py38/lib/python3.10/site-packages (from httpcore==1.*->httpx[http2]>=0.20.0->qdrant-client) (0.14.0)\nRequirement already satisfied: typing-extensions>=4.6.1 in /anaconda/envs/azureml_py38/lib/python3.10/site-packages (from pydantic>=1.10.8->qdrant-client) (4.12.2)\nRequirement already satisfied: annotated-types>=0.4.0 in /anaconda/envs/azureml_py38/lib/python3.10/site-packages (from pydantic>=1.10.8->qdrant-client) (0.7.0)\nRequirement already satisfied: pydantic-core==2.20.1 in /anaconda/envs/azureml_py38/lib/python3.10/site-packages (from pydantic>=1.10.8->qdrant-client) (2.20.1)\nRequirement already satisfied: hyperframe<7,>=6.0 in /anaconda/envs/azureml_py38/lib/python3.10/site-packages (from h2<5,>=3->httpx[http2]>=0.20.0->qdrant-client) (6.0.1)\nRequirement already satisfied: hpack<5,>=4.0 in /anaconda/envs/azureml_py38/lib/python3.10/site-packages (from h2<5,>=3->httpx[http2]>=0.20.0->qdrant-client) (4.0.0)\nRequirement already satisfied: exceptiongroup>=1.0.2 in /anaconda/envs/azureml_py38/lib/python3.10/site-packages (from anyio->httpx[http2]>=0.20.0->qdrant-client) (1.2.2)\nInstalling collected packages: protobuf\n  Attempting uninstall: protobuf\n    Found existing installation: protobuf 4.25.5\n    Uninstalling protobuf-4.25.5:\n      Successfully uninstalled protobuf-4.25.5\n\u001b[31mERROR: pip's dependency resolver does not currently take into account all the packages that are installed. This behaviour is the source of the following dependency conflicts.\ntensorflow 2.17.0 requires protobuf!=4.21.0,!=4.21.1,!=4.21.2,!=4.21.3,!=4.21.4,!=4.21.5,<5.0.0dev,>=3.20.3, but you have protobuf 5.28.3 which is incompatible.\ntensorflow 2.17.0 requires tensorboard<2.18,>=2.17, but you have tensorboard 2.16.2 which is incompatible.\ntensorflow-cpu 2.16.1 requires protobuf!=4.21.0,!=4.21.1,!=4.21.2,!=4.21.3,!=4.21.4,!=4.21.5,<5.0.0dev,>=3.20.3, but you have protobuf 5.28.3 which is incompatible.\nmlflow-skinny 2.15.0 requires importlib-metadata!=4.7.0,<8,>=3.7.0, but you have importlib-metadata 8.2.0 which is incompatible.\nazureml-automl-runtime 1.57.0 requires protobuf<=3.20.3, but you have protobuf 5.28.3 which is incompatible.\nazureml-automl-dnn-nlp 1.57.0 requires torch==1.13.1, but you have torch 2.4.1 which is incompatible.\nazureml-automl-dnn-nlp 1.57.0 requires transformers[sentencepiece,torch]<=4.36.2, but you have transformers 4.46.2 which is incompatible.\u001b[0m\u001b[31m\n\u001b[0mSuccessfully installed protobuf-5.28.3\nRequirement already satisfied: openai in /anaconda/envs/azureml_py38/lib/python3.10/site-packages (1.55.0)\nRequirement already satisfied: jiter<1,>=0.4.0 in /anaconda/envs/azureml_py38/lib/python3.10/site-packages (from openai) (0.7.1)\nRequirement already satisfied: distro<2,>=1.7.0 in /anaconda/envs/azureml_py38/lib/python3.10/site-packages (from openai) (1.9.0)\nRequirement already satisfied: sniffio in /anaconda/envs/azureml_py38/lib/python3.10/site-packages (from openai) (1.3.1)\nRequirement already satisfied: tqdm>4 in /anaconda/envs/azureml_py38/lib/python3.10/site-packages (from openai) (4.66.4)\nRequirement already satisfied: anyio<5,>=3.5.0 in /anaconda/envs/azureml_py38/lib/python3.10/site-packages (from openai) (4.6.0)\nRequirement already satisfied: typing-extensions<5,>=4.11 in /anaconda/envs/azureml_py38/lib/python3.10/site-packages (from openai) (4.12.2)\nRequirement already satisfied: pydantic<3,>=1.9.0 in /anaconda/envs/azureml_py38/lib/python3.10/site-packages (from openai) (2.8.2)\nRequirement already satisfied: httpx<1,>=0.23.0 in /anaconda/envs/azureml_py38/lib/python3.10/site-packages (from openai) (0.27.2)\nRequirement already satisfied: idna>=2.8 in /anaconda/envs/azureml_py38/lib/python3.10/site-packages (from anyio<5,>=3.5.0->openai) (3.7)\nRequirement already satisfied: exceptiongroup>=1.0.2 in /anaconda/envs/azureml_py38/lib/python3.10/site-packages (from anyio<5,>=3.5.0->openai) (1.2.2)\nRequirement already satisfied: httpcore==1.* in /anaconda/envs/azureml_py38/lib/python3.10/site-packages (from httpx<1,>=0.23.0->openai) (1.0.5)\nRequirement already satisfied: certifi in /anaconda/envs/azureml_py38/lib/python3.10/site-packages (from httpx<1,>=0.23.0->openai) (2024.8.30)\nRequirement already satisfied: h11<0.15,>=0.13 in /anaconda/envs/azureml_py38/lib/python3.10/site-packages (from httpcore==1.*->httpx<1,>=0.23.0->openai) (0.14.0)\nRequirement already satisfied: annotated-types>=0.4.0 in /anaconda/envs/azureml_py38/lib/python3.10/site-packages (from pydantic<3,>=1.9.0->openai) (0.7.0)\nRequirement already satisfied: pydantic-core==2.20.1 in /anaconda/envs/azureml_py38/lib/python3.10/site-packages (from pydantic<3,>=1.9.0->openai) (2.20.1)\n"
        }
      ],
      "execution_count": 1,
      "metadata": {}
    },
    {
      "cell_type": "markdown",
      "source": [
        "# Lokalne ładowanie modelu\n",
        "\n",
        "W tym miejscu ściągamy i ładujemy model https://huggingface.co/Open-Orca/Mistral-7B-OpenOrca korzystając z backendu `pytorch` (stąd `framework='pt'`)\n",
        "\n",
        "Jeśli notebook byłby odpalony na lokalnej maszynie (np. laptop) to model zostanie ściągnięty na lokalny dysk i będzie działać lokalnie."
      ],
      "metadata": {
        "nteract": {
          "transient": {
            "deleting": false
          }
        }
      }
    },
    {
      "cell_type": "code",
      "source": [
        "from transformers import pipeline\n",
        "pipe = pipeline(\"text-generation\", model=\"Open-Orca/Mistral-7B-OpenOrca\", framework=\"pt\")"
      ],
      "outputs": [
        {
          "output_type": "stream",
          "name": "stderr",
          "text": "2024-11-25 08:26:07.837775: I tensorflow/core/platform/cpu_feature_guard.cc:210] This TensorFlow binary is optimized to use available CPU instructions in performance-critical operations.\nTo enable the following instructions: AVX2 AVX512F FMA, in other operations, rebuild TensorFlow with the appropriate compiler flags.\n"
        },
        {
          "output_type": "display_data",
          "data": {
            "text/plain": "Loading checkpoint shards:   0%|          | 0/2 [00:00<?, ?it/s]",
            "application/vnd.jupyter.widget-view+json": {
              "version_major": 2,
              "version_minor": 0,
              "model_id": "9b0606d1cfd4463cb7ce6f29afff602a"
            }
          },
          "metadata": {}
        }
      ],
      "execution_count": 2,
      "metadata": {
        "jupyter": {
          "source_hidden": false,
          "outputs_hidden": false
        },
        "nteract": {
          "transient": {
            "deleting": false
          }
        },
        "gather": {
          "logged": 1732523291302
        }
      }
    },
    {
      "cell_type": "markdown",
      "source": [
        "Wrzucamy pierwsze zapytanie do modelu. Warto zwrócić uwagę, że do modelu wchodzi lista interakcji różnych ról w modelem, a w odpowiedzi dostajemy podobną strukturę wzbogaconą o wyjście z LLMu"
      ],
      "metadata": {
        "nteract": {
          "transient": {
            "deleting": false
          }
        }
      }
    },
    {
      "cell_type": "code",
      "source": [
        "messages = [\n",
        "    {\"role\": \"user\", \"content\": \"Who are you?\"},\n",
        "]\n",
        "pipe(messages)"
      ],
      "outputs": [
        {
          "output_type": "stream",
          "name": "stderr",
          "text": "Setting `pad_token_id` to `eos_token_id`:None for open-end generation.\n/anaconda/envs/azureml_py38/lib/python3.10/site-packages/transformers/generation/utils.py:1375: UserWarning: Using the model-agnostic default `max_length` (=20) to control the generation length. We recommend setting `max_new_tokens` to control the maximum length of the generation.\n  warnings.warn(\n"
        },
        {
          "output_type": "execute_result",
          "execution_count": 3,
          "data": {
            "text/plain": "[{'generated_text': [{'role': 'user', 'content': 'Who are you?'},\n   {'role': 'assistant', 'content': ' I am an AI-powered text-based'}]}]"
          },
          "metadata": {}
        }
      ],
      "execution_count": 3,
      "metadata": {
        "jupyter": {
          "source_hidden": false,
          "outputs_hidden": false
        },
        "nteract": {
          "transient": {
            "deleting": false
          }
        },
        "gather": {
          "logged": 1732523601132
        }
      }
    },
    {
      "cell_type": "markdown",
      "source": [
        "## Funkcja pomocnicza do ładnego wyświetlania interakcji z modelem"
      ],
      "metadata": {
        "nteract": {
          "transient": {
            "deleting": false
          }
        }
      }
    },
    {
      "cell_type": "code",
      "source": [
        "from rich.console import Console\n",
        "console = Console()\n",
        "def pretty_print(output):\n",
        "    for entry in output[0][\"generated_text\"]:\n",
        "        role, text = entry[\"role\"], entry[\"content\"]\n",
        "        console.rule(f\"[bold red]{role}\", style=\"bright_blue\")\n",
        "        console.print(text)"
      ],
      "outputs": [],
      "execution_count": 4,
      "metadata": {
        "jupyter": {
          "source_hidden": false,
          "outputs_hidden": false
        },
        "nteract": {
          "transient": {
            "deleting": false
          }
        },
        "gather": {
          "logged": 1732523803472
        }
      }
    },
    {
      "cell_type": "markdown",
      "source": [
        "##### Korzystamy z funkcji do ładnego wyświetlania i explicite ustawiamy maksymalną liczbę generowanych tokenów"
      ],
      "metadata": {
        "nteract": {
          "transient": {
            "deleting": false
          }
        }
      }
    },
    {
      "cell_type": "code",
      "source": [
        "messages = [\n",
        "    {\"role\": \"user\", \"content\": \"Is water wet? Elaborate\"},\n",
        "]\n",
        "pretty_print(pipe(messages, max_new_tokens=200))"
      ],
      "outputs": [
        {
          "output_type": "stream",
          "name": "stderr",
          "text": "Setting `pad_token_id` to `eos_token_id`:None for open-end generation.\n"
        },
        {
          "output_type": "display_data",
          "data": {
            "text/plain": "\u001b[94m────────────────────────────────────────────────────── \u001b[0m\u001b[1;31muser\u001b[0m\u001b[94m ───────────────────────────────────────────────────────\u001b[0m\n",
            "text/html": "<pre style=\"white-space:pre;overflow-x:auto;line-height:normal;font-family:Menlo,'DejaVu Sans Mono',consolas,'Courier New',monospace\"><span style=\"color: #0000ff; text-decoration-color: #0000ff\">────────────────────────────────────────────────────── </span><span style=\"color: #800000; text-decoration-color: #800000; font-weight: bold\">user</span><span style=\"color: #0000ff; text-decoration-color: #0000ff\"> ───────────────────────────────────────────────────────</span>\n</pre>\n"
          },
          "metadata": {}
        },
        {
          "output_type": "display_data",
          "data": {
            "text/plain": "Is water wet? Elaborate\n",
            "text/html": "<pre style=\"white-space:pre;overflow-x:auto;line-height:normal;font-family:Menlo,'DejaVu Sans Mono',consolas,'Courier New',monospace\">Is water wet? Elaborate\n</pre>\n"
          },
          "metadata": {}
        },
        {
          "output_type": "display_data",
          "data": {
            "text/plain": "\u001b[94m──────────────────────────────────────────────────── \u001b[0m\u001b[1;31massistant\u001b[0m\u001b[94m ────────────────────────────────────────────────────\u001b[0m\n",
            "text/html": "<pre style=\"white-space:pre;overflow-x:auto;line-height:normal;font-family:Menlo,'DejaVu Sans Mono',consolas,'Courier New',monospace\"><span style=\"color: #0000ff; text-decoration-color: #0000ff\">──────────────────────────────────────────────────── </span><span style=\"color: #800000; text-decoration-color: #800000; font-weight: bold\">assistant</span><span style=\"color: #0000ff; text-decoration-color: #0000ff\"> ────────────────────────────────────────────────────</span>\n</pre>\n"
          },
          "metadata": {}
        },
        {
          "output_type": "display_data",
          "data": {
            "text/plain": " Water is indeed wet. The term \u001b[32m\"wet\"\u001b[0m refers to the presence of water or other liquids on a surface or in contact \nwith an object. When water comes into contact with a surface, it adheres to it and can be absorbed by the material,\nleading to a wet state.\n\nWater is a polar molecule, meaning that it has a positive and a negative end. This polarity allows water molecules \nto form hydrogen bonds with other water molecules, which in turn creates a cohesive force that holds the liquid \ntogether. This property of water is responsible for its ability to wet surfaces and dissolve various substances.\n\nIn everyday life, we often associate the term \u001b[32m\"wet\"\u001b[0m with the feeling of moisture on our skin or the dampness of an \nobject. When we touch water, the water molecules spread out and adhere to our skin, making it feel wet. Similarly, \nwhen an object is submerged in water or exposed to\n",
            "text/html": "<pre style=\"white-space:pre;overflow-x:auto;line-height:normal;font-family:Menlo,'DejaVu Sans Mono',consolas,'Courier New',monospace\"> Water is indeed wet. The term <span style=\"color: #008000; text-decoration-color: #008000\">\"wet\"</span> refers to the presence of water or other liquids on a surface or in contact \nwith an object. When water comes into contact with a surface, it adheres to it and can be absorbed by the material,\nleading to a wet state.\n\nWater is a polar molecule, meaning that it has a positive and a negative end. This polarity allows water molecules \nto form hydrogen bonds with other water molecules, which in turn creates a cohesive force that holds the liquid \ntogether. This property of water is responsible for its ability to wet surfaces and dissolve various substances.\n\nIn everyday life, we often associate the term <span style=\"color: #008000; text-decoration-color: #008000\">\"wet\"</span> with the feeling of moisture on our skin or the dampness of an \nobject. When we touch water, the water molecules spread out and adhere to our skin, making it feel wet. Similarly, \nwhen an object is submerged in water or exposed to\n</pre>\n"
          },
          "metadata": {}
        }
      ],
      "execution_count": 5,
      "metadata": {
        "jupyter": {
          "source_hidden": false,
          "outputs_hidden": false
        },
        "nteract": {
          "transient": {
            "deleting": false
          }
        },
        "gather": {
          "logged": 1732523948807
        }
      }
    },
    {
      "cell_type": "markdown",
      "source": [
        "#### Generowanie przykładów z ustawioną temperaturą"
      ],
      "metadata": {
        "nteract": {
          "transient": {
            "deleting": false
          }
        }
      }
    },
    {
      "cell_type": "code",
      "source": [
        "messages = [\n",
        "    {\"role\": \"user\", \"content\": \"Is water wet? Elaborate\"},\n",
        "]\n",
        "pretty_print(pipe(messages, do_sample=True, temperature=1.2, max_new_tokens=200))"
      ],
      "outputs": [
        {
          "output_type": "stream",
          "name": "stderr",
          "text": "Setting `pad_token_id` to `eos_token_id`:None for open-end generation.\n"
        },
        {
          "output_type": "display_data",
          "data": {
            "text/plain": "\u001b[94m────────────────────────────────────────────────────── \u001b[0m\u001b[1;31muser\u001b[0m\u001b[94m ───────────────────────────────────────────────────────\u001b[0m\n",
            "text/html": "<pre style=\"white-space:pre;overflow-x:auto;line-height:normal;font-family:Menlo,'DejaVu Sans Mono',consolas,'Courier New',monospace\"><span style=\"color: #0000ff; text-decoration-color: #0000ff\">────────────────────────────────────────────────────── </span><span style=\"color: #800000; text-decoration-color: #800000; font-weight: bold\">user</span><span style=\"color: #0000ff; text-decoration-color: #0000ff\"> ───────────────────────────────────────────────────────</span>\n</pre>\n"
          },
          "metadata": {}
        },
        {
          "output_type": "display_data",
          "data": {
            "text/plain": "Is water wet? Elaborate\n",
            "text/html": "<pre style=\"white-space:pre;overflow-x:auto;line-height:normal;font-family:Menlo,'DejaVu Sans Mono',consolas,'Courier New',monospace\">Is water wet? Elaborate\n</pre>\n"
          },
          "metadata": {}
        },
        {
          "output_type": "display_data",
          "data": {
            "text/plain": "\u001b[94m──────────────────────────────────────────────────── \u001b[0m\u001b[1;31massistant\u001b[0m\u001b[94m ────────────────────────────────────────────────────\u001b[0m\n",
            "text/html": "<pre style=\"white-space:pre;overflow-x:auto;line-height:normal;font-family:Menlo,'DejaVu Sans Mono',consolas,'Courier New',monospace\"><span style=\"color: #0000ff; text-decoration-color: #0000ff\">──────────────────────────────────────────────────── </span><span style=\"color: #800000; text-decoration-color: #800000; font-weight: bold\">assistant</span><span style=\"color: #0000ff; text-decoration-color: #0000ff\"> ────────────────────────────────────────────────────</span>\n</pre>\n"
          },
          "metadata": {}
        },
        {
          "output_type": "display_data",
          "data": {
            "text/plain": " Water is indeed wet. This concept may be seen as quite intuitive or simple, as it refers to water's ability to \nadhere to surfaces and materials, making them moist. In fact, the term \u001b[32m\"wet\"\u001b[0m often describes situations when \nsubstances or objects have absorbed moisture, such as water. Additionally, the wetness of an object can change \nbased on varying factors such as the amount of additional moisture absorbed or the nature of the surface.\n\nWater, being a polar molecule, readily binds to other polar molecules, which also contributes to wetness. This \nmeans because water and other polar ingredients such as our own skin or other surfaces are mutually attracted, \nwater can spread out and make the surface wet. \n\nIt's also important to note that wetness isn't just limited to how damp a fabric gets or how soaked an item is; the\nmoisture in the air or even the amount of water present in plants counts too. All these\n",
            "text/html": "<pre style=\"white-space:pre;overflow-x:auto;line-height:normal;font-family:Menlo,'DejaVu Sans Mono',consolas,'Courier New',monospace\"> Water is indeed wet. This concept may be seen as quite intuitive or simple, as it refers to water's ability to \nadhere to surfaces and materials, making them moist. In fact, the term <span style=\"color: #008000; text-decoration-color: #008000\">\"wet\"</span> often describes situations when \nsubstances or objects have absorbed moisture, such as water. Additionally, the wetness of an object can change \nbased on varying factors such as the amount of additional moisture absorbed or the nature of the surface.\n\nWater, being a polar molecule, readily binds to other polar molecules, which also contributes to wetness. This \nmeans because water and other polar ingredients such as our own skin or other surfaces are mutually attracted, \nwater can spread out and make the surface wet. \n\nIt's also important to note that wetness isn't just limited to how damp a fabric gets or how soaked an item is; the\nmoisture in the air or even the amount of water present in plants counts too. All these\n</pre>\n"
          },
          "metadata": {}
        }
      ],
      "execution_count": 6,
      "metadata": {
        "jupyter": {
          "source_hidden": false,
          "outputs_hidden": false
        },
        "nteract": {
          "transient": {
            "deleting": false
          }
        },
        "gather": {
          "logged": 1732525861198
        }
      }
    },
    {
      "cell_type": "markdown",
      "source": [
        "##### Przykład czatu z użytkownikiem\n",
        "\n",
        "Prosimy model o generację odpowiedzi i zapisujemy sobie historię interakcji do zmiennej `chat`, która jest listą słowników interakcji. Następnie dorzucamy do tej listy nowe zapytanie, na które odpowiedź ma być wygenerowana w kontekście całej konwersacji"
      ],
      "metadata": {
        "nteract": {
          "transient": {
            "deleting": false
          }
        }
      }
    },
    {
      "cell_type": "code",
      "source": [
        "messages = [\n",
        "    {\"role\": \"user\", \"content\": \"Is water wet? Elaborate\"},\n",
        "]\n",
        "chat = pipe(messages, do_sample=True, temperature=0.01, max_new_tokens=100)[0][\"generated_text\"]\n",
        "chat.append({\"role\": \"user\", \"content\": \"What if we consider 'wetness' as an ability to make something wet? Is water still wet by that definition?\"})\n",
        "chat = pipe(chat, do_sample=True, temperature=0.01, max_new_tokens=50)\n",
        "pretty_print(chat)"
      ],
      "outputs": [
        {
          "output_type": "stream",
          "name": "stderr",
          "text": "Setting `pad_token_id` to `eos_token_id`:None for open-end generation.\nSetting `pad_token_id` to `eos_token_id`:None for open-end generation.\n"
        },
        {
          "output_type": "display_data",
          "data": {
            "text/plain": "\u001b[94m────────────────────────────────────────────────────── \u001b[0m\u001b[1;31muser\u001b[0m\u001b[94m ───────────────────────────────────────────────────────\u001b[0m\n",
            "text/html": "<pre style=\"white-space:pre;overflow-x:auto;line-height:normal;font-family:Menlo,'DejaVu Sans Mono',consolas,'Courier New',monospace\"><span style=\"color: #0000ff; text-decoration-color: #0000ff\">────────────────────────────────────────────────────── </span><span style=\"color: #800000; text-decoration-color: #800000; font-weight: bold\">user</span><span style=\"color: #0000ff; text-decoration-color: #0000ff\"> ───────────────────────────────────────────────────────</span>\n</pre>\n"
          },
          "metadata": {}
        },
        {
          "output_type": "display_data",
          "data": {
            "text/plain": "Is water wet? Elaborate\n",
            "text/html": "<pre style=\"white-space:pre;overflow-x:auto;line-height:normal;font-family:Menlo,'DejaVu Sans Mono',consolas,'Courier New',monospace\">Is water wet? Elaborate\n</pre>\n"
          },
          "metadata": {}
        },
        {
          "output_type": "display_data",
          "data": {
            "text/plain": "\u001b[94m──────────────────────────────────────────────────── \u001b[0m\u001b[1;31massistant\u001b[0m\u001b[94m ────────────────────────────────────────────────────\u001b[0m\n",
            "text/html": "<pre style=\"white-space:pre;overflow-x:auto;line-height:normal;font-family:Menlo,'DejaVu Sans Mono',consolas,'Courier New',monospace\"><span style=\"color: #0000ff; text-decoration-color: #0000ff\">──────────────────────────────────────────────────── </span><span style=\"color: #800000; text-decoration-color: #800000; font-weight: bold\">assistant</span><span style=\"color: #0000ff; text-decoration-color: #0000ff\"> ────────────────────────────────────────────────────</span>\n</pre>\n"
          },
          "metadata": {}
        },
        {
          "output_type": "display_data",
          "data": {
            "text/plain": " Water is indeed wet. The term \u001b[32m\"wet\"\u001b[0m refers to the presence of water or other liquids on a surface or in contact \nwith an object. When water comes into contact with a surface, it adheres to it and can be absorbed by the material,\nleading to a wet state.\n\nWater is a polar molecule, meaning that it has a positive and a negative end. This polarity allows water molecules \nto form hydrogen bonds with other water molecules, which in\n",
            "text/html": "<pre style=\"white-space:pre;overflow-x:auto;line-height:normal;font-family:Menlo,'DejaVu Sans Mono',consolas,'Courier New',monospace\"> Water is indeed wet. The term <span style=\"color: #008000; text-decoration-color: #008000\">\"wet\"</span> refers to the presence of water or other liquids on a surface or in contact \nwith an object. When water comes into contact with a surface, it adheres to it and can be absorbed by the material,\nleading to a wet state.\n\nWater is a polar molecule, meaning that it has a positive and a negative end. This polarity allows water molecules \nto form hydrogen bonds with other water molecules, which in\n</pre>\n"
          },
          "metadata": {}
        },
        {
          "output_type": "display_data",
          "data": {
            "text/plain": "\u001b[94m────────────────────────────────────────────────────── \u001b[0m\u001b[1;31muser\u001b[0m\u001b[94m ───────────────────────────────────────────────────────\u001b[0m\n",
            "text/html": "<pre style=\"white-space:pre;overflow-x:auto;line-height:normal;font-family:Menlo,'DejaVu Sans Mono',consolas,'Courier New',monospace\"><span style=\"color: #0000ff; text-decoration-color: #0000ff\">────────────────────────────────────────────────────── </span><span style=\"color: #800000; text-decoration-color: #800000; font-weight: bold\">user</span><span style=\"color: #0000ff; text-decoration-color: #0000ff\"> ───────────────────────────────────────────────────────</span>\n</pre>\n"
          },
          "metadata": {}
        },
        {
          "output_type": "display_data",
          "data": {
            "text/plain": "What if we consider \u001b[32m'wetness'\u001b[0m as an ability to make something wet? Is water still wet by that definition?\n",
            "text/html": "<pre style=\"white-space:pre;overflow-x:auto;line-height:normal;font-family:Menlo,'DejaVu Sans Mono',consolas,'Courier New',monospace\">What if we consider <span style=\"color: #008000; text-decoration-color: #008000\">'wetness'</span> as an ability to make something wet? Is water still wet by that definition?\n</pre>\n"
          },
          "metadata": {}
        },
        {
          "output_type": "display_data",
          "data": {
            "text/plain": "\u001b[94m──────────────────────────────────────────────────── \u001b[0m\u001b[1;31massistant\u001b[0m\u001b[94m ────────────────────────────────────────────────────\u001b[0m\n",
            "text/html": "<pre style=\"white-space:pre;overflow-x:auto;line-height:normal;font-family:Menlo,'DejaVu Sans Mono',consolas,'Courier New',monospace\"><span style=\"color: #0000ff; text-decoration-color: #0000ff\">──────────────────────────────────────────────────── </span><span style=\"color: #800000; text-decoration-color: #800000; font-weight: bold\">assistant</span><span style=\"color: #0000ff; text-decoration-color: #0000ff\"> ────────────────────────────────────────────────────</span>\n</pre>\n"
          },
          "metadata": {}
        },
        {
          "output_type": "display_data",
          "data": {
            "text/plain": " Yes, by considering \u001b[32m\"wetness\"\u001b[0m as the ability to make something wet, water would still be considered wet. Water has\nthe ability to make other objects wet due to its properties, such as its polar nature and its ability to dissolve \nvarious\n",
            "text/html": "<pre style=\"white-space:pre;overflow-x:auto;line-height:normal;font-family:Menlo,'DejaVu Sans Mono',consolas,'Courier New',monospace\"> Yes, by considering <span style=\"color: #008000; text-decoration-color: #008000\">\"wetness\"</span> as the ability to make something wet, water would still be considered wet. Water has\nthe ability to make other objects wet due to its properties, such as its polar nature and its ability to dissolve \nvarious\n</pre>\n"
          },
          "metadata": {}
        }
      ],
      "execution_count": 7,
      "metadata": {
        "jupyter": {
          "source_hidden": false,
          "outputs_hidden": false
        },
        "nteract": {
          "transient": {
            "deleting": false
          }
        },
        "gather": {
          "logged": 1732526063399
        }
      }
    },
    {
      "cell_type": "markdown",
      "source": [
        "Kontynuujemy naszą rozmowę dorzucając kolejny element do naszej historii zawartej w zmiennej `chat`."
      ],
      "metadata": {
        "nteract": {
          "transient": {
            "deleting": false
          }
        }
      }
    },
    {
      "cell_type": "code",
      "source": [
        "chat = chat[0][\"generated_text\"]\n",
        "chat.append({\"role\": \"user\", \"content\": \"Ok, what if an object is fully submersed? Is it still considered wet?\"})\n",
        "chat = pipe(chat, do_sample=True, temperature=2.0, max_new_tokens=50)\n",
        "pretty_print(chat)"
      ],
      "outputs": [
        {
          "output_type": "stream",
          "name": "stderr",
          "text": "Setting `pad_token_id` to `eos_token_id`:None for open-end generation.\n"
        },
        {
          "output_type": "display_data",
          "data": {
            "text/plain": "\u001b[94m────────────────────────────────────────────────────── \u001b[0m\u001b[1;31muser\u001b[0m\u001b[94m ───────────────────────────────────────────────────────\u001b[0m\n",
            "text/html": "<pre style=\"white-space:pre;overflow-x:auto;line-height:normal;font-family:Menlo,'DejaVu Sans Mono',consolas,'Courier New',monospace\"><span style=\"color: #0000ff; text-decoration-color: #0000ff\">────────────────────────────────────────────────────── </span><span style=\"color: #800000; text-decoration-color: #800000; font-weight: bold\">user</span><span style=\"color: #0000ff; text-decoration-color: #0000ff\"> ───────────────────────────────────────────────────────</span>\n</pre>\n"
          },
          "metadata": {}
        },
        {
          "output_type": "display_data",
          "data": {
            "text/plain": "Is water wet? Elaborate\n",
            "text/html": "<pre style=\"white-space:pre;overflow-x:auto;line-height:normal;font-family:Menlo,'DejaVu Sans Mono',consolas,'Courier New',monospace\">Is water wet? Elaborate\n</pre>\n"
          },
          "metadata": {}
        },
        {
          "output_type": "display_data",
          "data": {
            "text/plain": "\u001b[94m──────────────────────────────────────────────────── \u001b[0m\u001b[1;31massistant\u001b[0m\u001b[94m ────────────────────────────────────────────────────\u001b[0m\n",
            "text/html": "<pre style=\"white-space:pre;overflow-x:auto;line-height:normal;font-family:Menlo,'DejaVu Sans Mono',consolas,'Courier New',monospace\"><span style=\"color: #0000ff; text-decoration-color: #0000ff\">──────────────────────────────────────────────────── </span><span style=\"color: #800000; text-decoration-color: #800000; font-weight: bold\">assistant</span><span style=\"color: #0000ff; text-decoration-color: #0000ff\"> ────────────────────────────────────────────────────</span>\n</pre>\n"
          },
          "metadata": {}
        },
        {
          "output_type": "display_data",
          "data": {
            "text/plain": " Water is indeed wet. The term \u001b[32m\"wet\"\u001b[0m refers to the presence of water or other liquids on a surface or in contact \nwith an object. When water comes into contact with a surface, it adheres to it and can be absorbed by the material,\nleading to a wet state.\n\nWater is a polar molecule, meaning that it has a positive and a negative end. This polarity allows water molecules \nto form hydrogen bonds with other water molecules, which in\n",
            "text/html": "<pre style=\"white-space:pre;overflow-x:auto;line-height:normal;font-family:Menlo,'DejaVu Sans Mono',consolas,'Courier New',monospace\"> Water is indeed wet. The term <span style=\"color: #008000; text-decoration-color: #008000\">\"wet\"</span> refers to the presence of water or other liquids on a surface or in contact \nwith an object. When water comes into contact with a surface, it adheres to it and can be absorbed by the material,\nleading to a wet state.\n\nWater is a polar molecule, meaning that it has a positive and a negative end. This polarity allows water molecules \nto form hydrogen bonds with other water molecules, which in\n</pre>\n"
          },
          "metadata": {}
        },
        {
          "output_type": "display_data",
          "data": {
            "text/plain": "\u001b[94m────────────────────────────────────────────────────── \u001b[0m\u001b[1;31muser\u001b[0m\u001b[94m ───────────────────────────────────────────────────────\u001b[0m\n",
            "text/html": "<pre style=\"white-space:pre;overflow-x:auto;line-height:normal;font-family:Menlo,'DejaVu Sans Mono',consolas,'Courier New',monospace\"><span style=\"color: #0000ff; text-decoration-color: #0000ff\">────────────────────────────────────────────────────── </span><span style=\"color: #800000; text-decoration-color: #800000; font-weight: bold\">user</span><span style=\"color: #0000ff; text-decoration-color: #0000ff\"> ───────────────────────────────────────────────────────</span>\n</pre>\n"
          },
          "metadata": {}
        },
        {
          "output_type": "display_data",
          "data": {
            "text/plain": "What if we consider \u001b[32m'wetness'\u001b[0m as an ability to make something wet? Is water still wet by that definition?\n",
            "text/html": "<pre style=\"white-space:pre;overflow-x:auto;line-height:normal;font-family:Menlo,'DejaVu Sans Mono',consolas,'Courier New',monospace\">What if we consider <span style=\"color: #008000; text-decoration-color: #008000\">'wetness'</span> as an ability to make something wet? Is water still wet by that definition?\n</pre>\n"
          },
          "metadata": {}
        },
        {
          "output_type": "display_data",
          "data": {
            "text/plain": "\u001b[94m──────────────────────────────────────────────────── \u001b[0m\u001b[1;31massistant\u001b[0m\u001b[94m ────────────────────────────────────────────────────\u001b[0m\n",
            "text/html": "<pre style=\"white-space:pre;overflow-x:auto;line-height:normal;font-family:Menlo,'DejaVu Sans Mono',consolas,'Courier New',monospace\"><span style=\"color: #0000ff; text-decoration-color: #0000ff\">──────────────────────────────────────────────────── </span><span style=\"color: #800000; text-decoration-color: #800000; font-weight: bold\">assistant</span><span style=\"color: #0000ff; text-decoration-color: #0000ff\"> ────────────────────────────────────────────────────</span>\n</pre>\n"
          },
          "metadata": {}
        },
        {
          "output_type": "display_data",
          "data": {
            "text/plain": " Yes, by considering \u001b[32m\"wetness\"\u001b[0m as the ability to make something wet, water would still be considered wet. Water has\nthe ability to make other objects wet due to its properties, such as its polar nature and its ability to dissolve \nvarious\n",
            "text/html": "<pre style=\"white-space:pre;overflow-x:auto;line-height:normal;font-family:Menlo,'DejaVu Sans Mono',consolas,'Courier New',monospace\"> Yes, by considering <span style=\"color: #008000; text-decoration-color: #008000\">\"wetness\"</span> as the ability to make something wet, water would still be considered wet. Water has\nthe ability to make other objects wet due to its properties, such as its polar nature and its ability to dissolve \nvarious\n</pre>\n"
          },
          "metadata": {}
        },
        {
          "output_type": "display_data",
          "data": {
            "text/plain": "\u001b[94m────────────────────────────────────────────────────── \u001b[0m\u001b[1;31muser\u001b[0m\u001b[94m ───────────────────────────────────────────────────────\u001b[0m\n",
            "text/html": "<pre style=\"white-space:pre;overflow-x:auto;line-height:normal;font-family:Menlo,'DejaVu Sans Mono',consolas,'Courier New',monospace\"><span style=\"color: #0000ff; text-decoration-color: #0000ff\">────────────────────────────────────────────────────── </span><span style=\"color: #800000; text-decoration-color: #800000; font-weight: bold\">user</span><span style=\"color: #0000ff; text-decoration-color: #0000ff\"> ───────────────────────────────────────────────────────</span>\n</pre>\n"
          },
          "metadata": {}
        },
        {
          "output_type": "display_data",
          "data": {
            "text/plain": "Ok, what if an object is fully submersed? Is it still considered wet?\n",
            "text/html": "<pre style=\"white-space:pre;overflow-x:auto;line-height:normal;font-family:Menlo,'DejaVu Sans Mono',consolas,'Courier New',monospace\">Ok, what if an object is fully submersed? Is it still considered wet?\n</pre>\n"
          },
          "metadata": {}
        },
        {
          "output_type": "display_data",
          "data": {
            "text/plain": "\u001b[94m──────────────────────────────────────────────────── \u001b[0m\u001b[1;31massistant\u001b[0m\u001b[94m ────────────────────────────────────────────────────\u001b[0m\n",
            "text/html": "<pre style=\"white-space:pre;overflow-x:auto;line-height:normal;font-family:Menlo,'DejaVu Sans Mono',consolas,'Courier New',monospace\"><span style=\"color: #0000ff; text-decoration-color: #0000ff\">──────────────────────────────────────────────────── </span><span style=\"color: #800000; text-decoration-color: #800000; font-weight: bold\">assistant</span><span style=\"color: #0000ff; text-decoration-color: #0000ff\"> ────────────────────────────────────────────────────</span>\n</pre>\n"
          },
          "metadata": {}
        },
        {
          "output_type": "display_data",
          "data": {
            "text/plain": "When an object is fully submerged in water, any water that touches its surface and adheres to the material would, \nin turn, also considered wet due to becoming a part of the substance's surface or material, as well as its\n",
            "text/html": "<pre style=\"white-space:pre;overflow-x:auto;line-height:normal;font-family:Menlo,'DejaVu Sans Mono',consolas,'Courier New',monospace\">When an object is fully submerged in water, any water that touches its surface and adheres to the material would, \nin turn, also considered wet due to becoming a part of the substance's surface or material, as well as its\n</pre>\n"
          },
          "metadata": {}
        }
      ],
      "execution_count": 8,
      "metadata": {
        "jupyter": {
          "source_hidden": false,
          "outputs_hidden": false
        },
        "nteract": {
          "transient": {
            "deleting": false
          }
        },
        "gather": {
          "logged": 1732526278673
        }
      }
    },
    {
      "cell_type": "markdown",
      "source": [
        "# One-shot prompting\n",
        "\n",
        "Pokazujemy modelowi przykład, a następnie dajemy mu zapytanie, na które powinien odpowiedzieć w analogiczny sposób. Na tym etapie nie mamy jeszcze explicite instrukcji w naszym prompcie."
      ],
      "metadata": {
        "nteract": {
          "transient": {
            "deleting": false
          }
        }
      }
    },
    {
      "cell_type": "code",
      "source": [
        "one_shot_prompt = \"\"\"\n",
        "A \"whatpu\" is a small, furry animal native to Tanzania. An example of a sentence that uses the word whatpu is:\n",
        "We were traveling in Africa and we saw these very cute whatpus.\n",
        " \n",
        "To do a \"farduddle\" means to jump up and down really fast. An example of a sentence that uses the word farduddle is:\n",
        "\"\"\"\n",
        "\n",
        "messages = [\n",
        "    {\"role\": \"user\", \"content\": one_shot_prompt},\n",
        "]\n",
        "chat = pipe(messages, do_sample=True, temperature=0.7, max_new_tokens=100)\n",
        "pretty_print(chat)"
      ],
      "outputs": [
        {
          "output_type": "stream",
          "name": "stderr",
          "text": "Setting `pad_token_id` to `eos_token_id`:None for open-end generation.\n"
        },
        {
          "output_type": "display_data",
          "data": {
            "text/plain": "\u001b[94m────────────────────────────────────────────────────── \u001b[0m\u001b[1;31muser\u001b[0m\u001b[94m ───────────────────────────────────────────────────────\u001b[0m\n",
            "text/html": "<pre style=\"white-space:pre;overflow-x:auto;line-height:normal;font-family:Menlo,'DejaVu Sans Mono',consolas,'Courier New',monospace\"><span style=\"color: #0000ff; text-decoration-color: #0000ff\">────────────────────────────────────────────────────── </span><span style=\"color: #800000; text-decoration-color: #800000; font-weight: bold\">user</span><span style=\"color: #0000ff; text-decoration-color: #0000ff\"> ───────────────────────────────────────────────────────</span>\n</pre>\n"
          },
          "metadata": {}
        },
        {
          "output_type": "display_data",
          "data": {
            "text/plain": "\nA \u001b[32m\"whatpu\"\u001b[0m is a small, furry animal native to Tanzania. An example of a sentence that uses the word whatpu is:\nWe were traveling in Africa and we saw these very cute whatpus.\n \nTo do a \u001b[32m\"farduddle\"\u001b[0m means to jump up and down really fast. An example of a sentence that uses the word farduddle \nis:\n\n",
            "text/html": "<pre style=\"white-space:pre;overflow-x:auto;line-height:normal;font-family:Menlo,'DejaVu Sans Mono',consolas,'Courier New',monospace\">\nA <span style=\"color: #008000; text-decoration-color: #008000\">\"whatpu\"</span> is a small, furry animal native to Tanzania. An example of a sentence that uses the word whatpu is:\nWe were traveling in Africa and we saw these very cute whatpus.\n \nTo do a <span style=\"color: #008000; text-decoration-color: #008000\">\"farduddle\"</span> means to jump up and down really fast. An example of a sentence that uses the word farduddle \nis:\n\n</pre>\n"
          },
          "metadata": {}
        },
        {
          "output_type": "display_data",
          "data": {
            "text/plain": "\u001b[94m──────────────────────────────────────────────────── \u001b[0m\u001b[1;31massistant\u001b[0m\u001b[94m ────────────────────────────────────────────────────\u001b[0m\n",
            "text/html": "<pre style=\"white-space:pre;overflow-x:auto;line-height:normal;font-family:Menlo,'DejaVu Sans Mono',consolas,'Courier New',monospace\"><span style=\"color: #0000ff; text-decoration-color: #0000ff\">──────────────────────────────────────────────────── </span><span style=\"color: #800000; text-decoration-color: #800000; font-weight: bold\">assistant</span><span style=\"color: #0000ff; text-decoration-color: #0000ff\"> ────────────────────────────────────────────────────</span>\n</pre>\n"
          },
          "metadata": {}
        },
        {
          "output_type": "display_data",
          "data": {
            "text/plain": " After winning the game, the kids started farduddling with excitement.\n",
            "text/html": "<pre style=\"white-space:pre;overflow-x:auto;line-height:normal;font-family:Menlo,'DejaVu Sans Mono',consolas,'Courier New',monospace\"> After winning the game, the kids started farduddling with excitement.\n</pre>\n"
          },
          "metadata": {}
        }
      ],
      "execution_count": 9,
      "metadata": {
        "jupyter": {
          "source_hidden": false,
          "outputs_hidden": false
        },
        "nteract": {
          "transient": {
            "deleting": false
          }
        },
        "gather": {
          "logged": 1732526426425
        }
      }
    },
    {
      "cell_type": "markdown",
      "source": [
        "# Few-shot prompting\n",
        "\n",
        "Pokazujemy modelowi kilka przykładów i prosimy o uzupełnienie klasyfikacji ostatniego przykładu, ale nadal nie mamy explicite promptu z dokładnym poleceniem - model \"domyśla się\" o co nam chodzi na podstawie kontekstu."
      ],
      "metadata": {
        "nteract": {
          "transient": {
            "deleting": false
          }
        }
      }
    },
    {
      "cell_type": "code",
      "source": [
        "few_shot_prompt = \"\"\"\n",
        "This is awesome! // Positive\n",
        "This is bad! // Negative\n",
        "Wow that movie was rad! // Positive\n",
        "What a horrible show! //\n",
        "\"\"\"\n",
        "\n",
        "messages = [\n",
        "    {\"role\": \"user\", \"content\": few_shot_prompt},\n",
        "]\n",
        "chat = pipe(messages, do_sample=True, temperature=0.2, max_new_tokens=100)\n",
        "pretty_print(chat)"
      ],
      "outputs": [
        {
          "output_type": "stream",
          "name": "stderr",
          "text": "Setting `pad_token_id` to `eos_token_id`:None for open-end generation.\n"
        },
        {
          "output_type": "display_data",
          "data": {
            "text/plain": "\u001b[94m────────────────────────────────────────────────────── \u001b[0m\u001b[1;31muser\u001b[0m\u001b[94m ───────────────────────────────────────────────────────\u001b[0m\n",
            "text/html": "<pre style=\"white-space:pre;overflow-x:auto;line-height:normal;font-family:Menlo,'DejaVu Sans Mono',consolas,'Courier New',monospace\"><span style=\"color: #0000ff; text-decoration-color: #0000ff\">────────────────────────────────────────────────────── </span><span style=\"color: #800000; text-decoration-color: #800000; font-weight: bold\">user</span><span style=\"color: #0000ff; text-decoration-color: #0000ff\"> ───────────────────────────────────────────────────────</span>\n</pre>\n"
          },
          "metadata": {}
        },
        {
          "output_type": "display_data",
          "data": {
            "text/plain": "\nThis is awesome! \u001b[35m/\u001b[0m\u001b[35m/\u001b[0m Positive\nThis is bad! \u001b[35m/\u001b[0m\u001b[35m/\u001b[0m Negative\nWow that movie was rad! \u001b[35m/\u001b[0m\u001b[35m/\u001b[0m Positive\nWhat a horrible show! \u001b[35m/\u001b[0m\u001b[35m/\u001b[0m\n\n",
            "text/html": "<pre style=\"white-space:pre;overflow-x:auto;line-height:normal;font-family:Menlo,'DejaVu Sans Mono',consolas,'Courier New',monospace\">\nThis is awesome! <span style=\"color: #800080; text-decoration-color: #800080\">//</span> Positive\nThis is bad! <span style=\"color: #800080; text-decoration-color: #800080\">//</span> Negative\nWow that movie was rad! <span style=\"color: #800080; text-decoration-color: #800080\">//</span> Positive\nWhat a horrible show! <span style=\"color: #800080; text-decoration-color: #800080\">//</span>\n\n</pre>\n"
          },
          "metadata": {}
        },
        {
          "output_type": "display_data",
          "data": {
            "text/plain": "\u001b[94m──────────────────────────────────────────────────── \u001b[0m\u001b[1;31massistant\u001b[0m\u001b[94m ────────────────────────────────────────────────────\u001b[0m\n",
            "text/html": "<pre style=\"white-space:pre;overflow-x:auto;line-height:normal;font-family:Menlo,'DejaVu Sans Mono',consolas,'Courier New',monospace\"><span style=\"color: #0000ff; text-decoration-color: #0000ff\">──────────────────────────────────────────────────── </span><span style=\"color: #800000; text-decoration-color: #800000; font-weight: bold\">assistant</span><span style=\"color: #0000ff; text-decoration-color: #0000ff\"> ────────────────────────────────────────────────────</span>\n</pre>\n"
          },
          "metadata": {}
        },
        {
          "output_type": "display_data",
          "data": {
            "text/plain": " Negative\n\nThis is a great book! \u001b[35m/\u001b[0m\u001b[35m/\u001b[0m Positive\nI can't believe I wasted my time on this! \u001b[35m/\u001b[0m\u001b[35m/\u001b[0m Negative\nI had so much fun at the party! \u001b[35m/\u001b[0m\u001b[35m/\u001b[0m Positive\nThat concert was a total letdown! \u001b[35m/\u001b[0m\u001b[35m/\u001b[0m Negative\n",
            "text/html": "<pre style=\"white-space:pre;overflow-x:auto;line-height:normal;font-family:Menlo,'DejaVu Sans Mono',consolas,'Courier New',monospace\"> Negative\n\nThis is a great book! <span style=\"color: #800080; text-decoration-color: #800080\">//</span> Positive\nI can't believe I wasted my time on this! <span style=\"color: #800080; text-decoration-color: #800080\">//</span> Negative\nI had so much fun at the party! <span style=\"color: #800080; text-decoration-color: #800080\">//</span> Positive\nThat concert was a total letdown! <span style=\"color: #800080; text-decoration-color: #800080\">//</span> Negative\n</pre>\n"
          },
          "metadata": {}
        }
      ],
      "execution_count": 10,
      "metadata": {
        "jupyter": {
          "source_hidden": false,
          "outputs_hidden": false
        },
        "nteract": {
          "transient": {
            "deleting": false
          }
        },
        "gather": {
          "logged": 1732526543948
        }
      }
    },
    {
      "cell_type": "markdown",
      "source": [
        "Ten sam przykład ze zmienioną polaryzacją etykiet - teraz pozytywne zdania są negatywne, a negatywne pozytywne. Ponieważ nie podaliśmy konkretnych instrukcji model nie współpracuje i nie generuje etykiety dla ostatniego przykładu, który podaliśmy."
      ],
      "metadata": {
        "nteract": {
          "transient": {
            "deleting": false
          }
        }
      }
    },
    {
      "cell_type": "code",
      "source": [
        "few_shot_prompt = \"\"\"\n",
        "This is awesome! // Negative\n",
        "This is bad! // Positive\n",
        "Wow that movie was rad! // Negative\n",
        "What a horrible show! //\n",
        "\"\"\"\n",
        "\n",
        "messages = [\n",
        "    {\"role\": \"user\", \"content\": few_shot_prompt},\n",
        "]\n",
        "chat = pipe(messages, do_sample=True, temperature=0.2, max_new_tokens=100)\n",
        "pretty_print(chat)"
      ],
      "outputs": [
        {
          "output_type": "stream",
          "name": "stderr",
          "text": "Setting `pad_token_id` to `eos_token_id`:None for open-end generation.\n"
        },
        {
          "output_type": "display_data",
          "data": {
            "text/plain": "\u001b[94m────────────────────────────────────────────────────── \u001b[0m\u001b[1;31muser\u001b[0m\u001b[94m ───────────────────────────────────────────────────────\u001b[0m\n",
            "text/html": "<pre style=\"white-space:pre;overflow-x:auto;line-height:normal;font-family:Menlo,'DejaVu Sans Mono',consolas,'Courier New',monospace\"><span style=\"color: #0000ff; text-decoration-color: #0000ff\">────────────────────────────────────────────────────── </span><span style=\"color: #800000; text-decoration-color: #800000; font-weight: bold\">user</span><span style=\"color: #0000ff; text-decoration-color: #0000ff\"> ───────────────────────────────────────────────────────</span>\n</pre>\n"
          },
          "metadata": {}
        },
        {
          "output_type": "display_data",
          "data": {
            "text/plain": "\nThis is awesome! \u001b[35m/\u001b[0m\u001b[35m/\u001b[0m Negative\nThis is bad! \u001b[35m/\u001b[0m\u001b[35m/\u001b[0m Positive\nWow that movie was rad! \u001b[35m/\u001b[0m\u001b[35m/\u001b[0m Negative\nWhat a horrible show! \u001b[35m/\u001b[0m\u001b[35m/\u001b[0m\n\n",
            "text/html": "<pre style=\"white-space:pre;overflow-x:auto;line-height:normal;font-family:Menlo,'DejaVu Sans Mono',consolas,'Courier New',monospace\">\nThis is awesome! <span style=\"color: #800080; text-decoration-color: #800080\">//</span> Negative\nThis is bad! <span style=\"color: #800080; text-decoration-color: #800080\">//</span> Positive\nWow that movie was rad! <span style=\"color: #800080; text-decoration-color: #800080\">//</span> Negative\nWhat a horrible show! <span style=\"color: #800080; text-decoration-color: #800080\">//</span>\n\n</pre>\n"
          },
          "metadata": {}
        },
        {
          "output_type": "display_data",
          "data": {
            "text/plain": "\u001b[94m──────────────────────────────────────────────────── \u001b[0m\u001b[1;31massistant\u001b[0m\u001b[94m ────────────────────────────────────────────────────\u001b[0m\n",
            "text/html": "<pre style=\"white-space:pre;overflow-x:auto;line-height:normal;font-family:Menlo,'DejaVu Sans Mono',consolas,'Courier New',monospace\"><span style=\"color: #0000ff; text-decoration-color: #0000ff\">──────────────────────────────────────────────────── </span><span style=\"color: #800000; text-decoration-color: #800000; font-weight: bold\">assistant</span><span style=\"color: #0000ff; text-decoration-color: #0000ff\"> ────────────────────────────────────────────────────</span>\n</pre>\n"
          },
          "metadata": {}
        },
        {
          "output_type": "display_data",
          "data": {
            "text/plain": " This is a great tool! \u001b[35m/\u001b[0m\u001b[35m/\u001b[0m Positive\nI love this feature! \u001b[35m/\u001b[0m\u001b[35m/\u001b[0m Positive\nThe new update is fantastic! \u001b[35m/\u001b[0m\u001b[35m/\u001b[0m Positive\nThis is really useful! \u001b[35m/\u001b[0m\u001b[35m/\u001b[0m Positive\nI can't believe how easy this is to use! \u001b[35m/\u001b[0m\u001b[35m/\u001b[0m Positive\nI'm so impressed with the results! \u001b[35m/\u001b[0m\u001b[35m/\u001b[0m Positive\nThis is a game-changer! \u001b[35m/\u001b[0m\u001b[35m/\u001b[0m Positive\nI can't wait to see more improvements! \u001b[35m/\u001b[0m\u001b[35m/\u001b[0m Positive\nThis is a huge step forward!\n",
            "text/html": "<pre style=\"white-space:pre;overflow-x:auto;line-height:normal;font-family:Menlo,'DejaVu Sans Mono',consolas,'Courier New',monospace\"> This is a great tool! <span style=\"color: #800080; text-decoration-color: #800080\">//</span> Positive\nI love this feature! <span style=\"color: #800080; text-decoration-color: #800080\">//</span> Positive\nThe new update is fantastic! <span style=\"color: #800080; text-decoration-color: #800080\">//</span> Positive\nThis is really useful! <span style=\"color: #800080; text-decoration-color: #800080\">//</span> Positive\nI can't believe how easy this is to use! <span style=\"color: #800080; text-decoration-color: #800080\">//</span> Positive\nI'm so impressed with the results! <span style=\"color: #800080; text-decoration-color: #800080\">//</span> Positive\nThis is a game-changer! <span style=\"color: #800080; text-decoration-color: #800080\">//</span> Positive\nI can't wait to see more improvements! <span style=\"color: #800080; text-decoration-color: #800080\">//</span> Positive\nThis is a huge step forward!\n</pre>\n"
          },
          "metadata": {}
        }
      ],
      "execution_count": 11,
      "metadata": {
        "jupyter": {
          "source_hidden": false,
          "outputs_hidden": false
        },
        "nteract": {
          "transient": {
            "deleting": false
          }
        },
        "gather": {
          "logged": 1732526643827
        }
      }
    },
    {
      "cell_type": "markdown",
      "source": [
        "##### Few-shot prompting + konkretna instrukcja\n",
        "\n",
        "W prompcie typu `system` podajemy modelowi konkretną instrukcję, co pozwala mu na zrozumienie i wykonanie zadania."
      ],
      "metadata": {
        "nteract": {
          "transient": {
            "deleting": false
          }
        }
      }
    },
    {
      "cell_type": "code",
      "source": [
        "few_shot_prompt = \"\"\"\n",
        "This is awesome! // Negative\n",
        "This is bad! // Positive\n",
        "Wow that movie was rad! // Negative\n",
        "What a horrible show! //\n",
        "\"\"\"\n",
        "\n",
        "messages = [\n",
        "    {\"role\": \"system\", \"content\": \"Your role is labelling sentences as either Negative or Positive. Based on user examples label the last sentence.\"},\n",
        "    {\"role\": \"user\", \"content\": few_shot_prompt},\n",
        "]\n",
        "chat = pipe(messages, do_sample=True, temperature=0.2, max_new_tokens=100)\n",
        "pretty_print(chat)"
      ],
      "outputs": [
        {
          "output_type": "stream",
          "name": "stderr",
          "text": "Setting `pad_token_id` to `eos_token_id`:None for open-end generation.\n"
        },
        {
          "output_type": "display_data",
          "data": {
            "text/plain": "\u001b[94m───────────────────────────────────────────────────── \u001b[0m\u001b[1;31msystem\u001b[0m\u001b[94m ──────────────────────────────────────────────────────\u001b[0m\n",
            "text/html": "<pre style=\"white-space:pre;overflow-x:auto;line-height:normal;font-family:Menlo,'DejaVu Sans Mono',consolas,'Courier New',monospace\"><span style=\"color: #0000ff; text-decoration-color: #0000ff\">───────────────────────────────────────────────────── </span><span style=\"color: #800000; text-decoration-color: #800000; font-weight: bold\">system</span><span style=\"color: #0000ff; text-decoration-color: #0000ff\"> ──────────────────────────────────────────────────────</span>\n</pre>\n"
          },
          "metadata": {}
        },
        {
          "output_type": "display_data",
          "data": {
            "text/plain": "Your role is labelling sentences as either Negative or Positive. Based on user examples label the last sentence.\n",
            "text/html": "<pre style=\"white-space:pre;overflow-x:auto;line-height:normal;font-family:Menlo,'DejaVu Sans Mono',consolas,'Courier New',monospace\">Your role is labelling sentences as either Negative or Positive. Based on user examples label the last sentence.\n</pre>\n"
          },
          "metadata": {}
        },
        {
          "output_type": "display_data",
          "data": {
            "text/plain": "\u001b[94m────────────────────────────────────────────────────── \u001b[0m\u001b[1;31muser\u001b[0m\u001b[94m ───────────────────────────────────────────────────────\u001b[0m\n",
            "text/html": "<pre style=\"white-space:pre;overflow-x:auto;line-height:normal;font-family:Menlo,'DejaVu Sans Mono',consolas,'Courier New',monospace\"><span style=\"color: #0000ff; text-decoration-color: #0000ff\">────────────────────────────────────────────────────── </span><span style=\"color: #800000; text-decoration-color: #800000; font-weight: bold\">user</span><span style=\"color: #0000ff; text-decoration-color: #0000ff\"> ───────────────────────────────────────────────────────</span>\n</pre>\n"
          },
          "metadata": {}
        },
        {
          "output_type": "display_data",
          "data": {
            "text/plain": "\nThis is awesome! \u001b[35m/\u001b[0m\u001b[35m/\u001b[0m Negative\nThis is bad! \u001b[35m/\u001b[0m\u001b[35m/\u001b[0m Positive\nWow that movie was rad! \u001b[35m/\u001b[0m\u001b[35m/\u001b[0m Negative\nWhat a horrible show! \u001b[35m/\u001b[0m\u001b[35m/\u001b[0m\n\n",
            "text/html": "<pre style=\"white-space:pre;overflow-x:auto;line-height:normal;font-family:Menlo,'DejaVu Sans Mono',consolas,'Courier New',monospace\">\nThis is awesome! <span style=\"color: #800080; text-decoration-color: #800080\">//</span> Negative\nThis is bad! <span style=\"color: #800080; text-decoration-color: #800080\">//</span> Positive\nWow that movie was rad! <span style=\"color: #800080; text-decoration-color: #800080\">//</span> Negative\nWhat a horrible show! <span style=\"color: #800080; text-decoration-color: #800080\">//</span>\n\n</pre>\n"
          },
          "metadata": {}
        },
        {
          "output_type": "display_data",
          "data": {
            "text/plain": "\u001b[94m──────────────────────────────────────────────────── \u001b[0m\u001b[1;31massistant\u001b[0m\u001b[94m ────────────────────────────────────────────────────\u001b[0m\n",
            "text/html": "<pre style=\"white-space:pre;overflow-x:auto;line-height:normal;font-family:Menlo,'DejaVu Sans Mono',consolas,'Courier New',monospace\"><span style=\"color: #0000ff; text-decoration-color: #0000ff\">──────────────────────────────────────────────────── </span><span style=\"color: #800000; text-decoration-color: #800000; font-weight: bold\">assistant</span><span style=\"color: #0000ff; text-decoration-color: #0000ff\"> ────────────────────────────────────────────────────</span>\n</pre>\n"
          },
          "metadata": {}
        },
        {
          "output_type": "display_data",
          "data": {
            "text/plain": " Positive\n",
            "text/html": "<pre style=\"white-space:pre;overflow-x:auto;line-height:normal;font-family:Menlo,'DejaVu Sans Mono',consolas,'Courier New',monospace\"> Positive\n</pre>\n"
          },
          "metadata": {}
        }
      ],
      "execution_count": 12,
      "metadata": {
        "jupyter": {
          "source_hidden": false,
          "outputs_hidden": false
        },
        "nteract": {
          "transient": {
            "deleting": false
          }
        },
        "gather": {
          "logged": 1732526698188
        }
      }
    },
    {
      "cell_type": "markdown",
      "source": [
        "# Chain of Thought (refleksja)\n",
        "\n",
        "Prosimy model o rozwiązanie przykładu z kijem i z piłeczką. W przypadku tej konkretnej sesji model sobie nie poradził, pomimo tego, że próbował opisywać krok po kroku swój tok rozumowania."
      ],
      "metadata": {
        "nteract": {
          "transient": {
            "deleting": false
          }
        }
      }
    },
    {
      "cell_type": "code",
      "source": [
        "prompt = \"A bat and a ball cost $1.10 in total. The bat costs $1.00 more than the ball. How much does the ball cost?\"\n",
        "\n",
        "messages = [\n",
        "    {\"role\": \"user\", \"content\": prompt},\n",
        "]\n",
        "chat = pipe(messages, do_sample=True, temperature=0.2, max_new_tokens=200)\n",
        "pretty_print(chat)"
      ],
      "outputs": [
        {
          "output_type": "stream",
          "name": "stderr",
          "text": "Setting `pad_token_id` to `eos_token_id`:None for open-end generation.\n"
        },
        {
          "output_type": "display_data",
          "data": {
            "text/plain": "\u001b[94m────────────────────────────────────────────────────── \u001b[0m\u001b[1;31muser\u001b[0m\u001b[94m ───────────────────────────────────────────────────────\u001b[0m\n",
            "text/html": "<pre style=\"white-space:pre;overflow-x:auto;line-height:normal;font-family:Menlo,'DejaVu Sans Mono',consolas,'Courier New',monospace\"><span style=\"color: #0000ff; text-decoration-color: #0000ff\">────────────────────────────────────────────────────── </span><span style=\"color: #800000; text-decoration-color: #800000; font-weight: bold\">user</span><span style=\"color: #0000ff; text-decoration-color: #0000ff\"> ───────────────────────────────────────────────────────</span>\n</pre>\n"
          },
          "metadata": {}
        },
        {
          "output_type": "display_data",
          "data": {
            "text/plain": "A bat and a ball cost $\u001b[1;36m1.10\u001b[0m in total. The bat costs $\u001b[1;36m1.00\u001b[0m more than the ball. How much does the ball cost?\n",
            "text/html": "<pre style=\"white-space:pre;overflow-x:auto;line-height:normal;font-family:Menlo,'DejaVu Sans Mono',consolas,'Courier New',monospace\">A bat and a ball cost $<span style=\"color: #008080; text-decoration-color: #008080; font-weight: bold\">1.10</span> in total. The bat costs $<span style=\"color: #008080; text-decoration-color: #008080; font-weight: bold\">1.00</span> more than the ball. How much does the ball cost?\n</pre>\n"
          },
          "metadata": {}
        },
        {
          "output_type": "display_data",
          "data": {
            "text/plain": "\u001b[94m──────────────────────────────────────────────────── \u001b[0m\u001b[1;31massistant\u001b[0m\u001b[94m ────────────────────────────────────────────────────\u001b[0m\n",
            "text/html": "<pre style=\"white-space:pre;overflow-x:auto;line-height:normal;font-family:Menlo,'DejaVu Sans Mono',consolas,'Courier New',monospace\"><span style=\"color: #0000ff; text-decoration-color: #0000ff\">──────────────────────────────────────────────────── </span><span style=\"color: #800000; text-decoration-color: #800000; font-weight: bold\">assistant</span><span style=\"color: #0000ff; text-decoration-color: #0000ff\"> ────────────────────────────────────────────────────</span>\n</pre>\n"
          },
          "metadata": {}
        },
        {
          "output_type": "display_data",
          "data": {
            "text/plain": " Let x be the cost of the ball. Then the cost of the bat is x + \u001b[1;36m1\u001b[0m. According to the problem, the total cost of the \nbat and the ball is $\u001b[1;36m1.10\u001b[0m. So, we have the equation:\n\nx + \u001b[1m(\u001b[0mx + \u001b[1;36m1\u001b[0m\u001b[1m)\u001b[0m = \u001b[1;36m1.10\u001b[0m\n\nCombining like terms, we get:\n\n2x = \u001b[1;36m1.10\u001b[0m\n\nNow, divide both sides by \u001b[1;36m2\u001b[0m:\n\nx = \u001b[1;36m0.55\u001b[0m\n\nSo, the ball costs $\u001b[1;36m0.55\u001b[0m.\n",
            "text/html": "<pre style=\"white-space:pre;overflow-x:auto;line-height:normal;font-family:Menlo,'DejaVu Sans Mono',consolas,'Courier New',monospace\"> Let x be the cost of the ball. Then the cost of the bat is x + <span style=\"color: #008080; text-decoration-color: #008080; font-weight: bold\">1</span>. According to the problem, the total cost of the \nbat and the ball is $<span style=\"color: #008080; text-decoration-color: #008080; font-weight: bold\">1.10</span>. So, we have the equation:\n\nx + <span style=\"font-weight: bold\">(</span>x + <span style=\"color: #008080; text-decoration-color: #008080; font-weight: bold\">1</span><span style=\"font-weight: bold\">)</span> = <span style=\"color: #008080; text-decoration-color: #008080; font-weight: bold\">1.10</span>\n\nCombining like terms, we get:\n\n2x = <span style=\"color: #008080; text-decoration-color: #008080; font-weight: bold\">1.10</span>\n\nNow, divide both sides by <span style=\"color: #008080; text-decoration-color: #008080; font-weight: bold\">2</span>:\n\nx = <span style=\"color: #008080; text-decoration-color: #008080; font-weight: bold\">0.55</span>\n\nSo, the ball costs $<span style=\"color: #008080; text-decoration-color: #008080; font-weight: bold\">0.55</span>.\n</pre>\n"
          },
          "metadata": {}
        }
      ],
      "execution_count": 13,
      "metadata": {
        "jupyter": {
          "source_hidden": false,
          "outputs_hidden": false
        },
        "nteract": {
          "transient": {
            "deleting": false
          }
        },
        "gather": {
          "logged": 1732526984943
        }
      }
    },
    {
      "cell_type": "markdown",
      "source": [
        "Dodajemy do promptu instrukcję `Let's think step by step`. W przypadku tej sesji wydaje się, że dodanie tej instrukcji pomogło modelowi rozwiązać problem, ale jak wspominałem na wykładzie efektywność metod refleksji w dużej mierze zależy od wielkości modelu (im większe tym więcej można ugrać za pomocą tych metod)."
      ],
      "metadata": {
        "nteract": {
          "transient": {
            "deleting": false
          }
        }
      }
    },
    {
      "cell_type": "code",
      "source": [
        "prompt = \"A bat and a ball cost $1.10 in total. The bat costs $1.00 more than the ball. How much does the ball cost? Let's think step by step\"\n",
        "\n",
        "messages = [\n",
        "    {\"role\": \"user\", \"content\": prompt},\n",
        "]\n",
        "chat = pipe(messages, do_sample=True, temperature=0.2, max_new_tokens=300)\n",
        "pretty_print(chat)"
      ],
      "outputs": [
        {
          "output_type": "stream",
          "name": "stderr",
          "text": "Setting `pad_token_id` to `eos_token_id`:None for open-end generation.\n"
        },
        {
          "output_type": "display_data",
          "data": {
            "text/plain": "\u001b[94m────────────────────────────────────────────────────── \u001b[0m\u001b[1;31muser\u001b[0m\u001b[94m ───────────────────────────────────────────────────────\u001b[0m\n",
            "text/html": "<pre style=\"white-space:pre;overflow-x:auto;line-height:normal;font-family:Menlo,'DejaVu Sans Mono',consolas,'Courier New',monospace\"><span style=\"color: #0000ff; text-decoration-color: #0000ff\">────────────────────────────────────────────────────── </span><span style=\"color: #800000; text-decoration-color: #800000; font-weight: bold\">user</span><span style=\"color: #0000ff; text-decoration-color: #0000ff\"> ───────────────────────────────────────────────────────</span>\n</pre>\n"
          },
          "metadata": {}
        },
        {
          "output_type": "display_data",
          "data": {
            "text/plain": "A bat and a ball cost $\u001b[1;36m1.10\u001b[0m in total. The bat costs $\u001b[1;36m1.00\u001b[0m more than the ball. How much does the ball cost? Let's \nthink step by step\n",
            "text/html": "<pre style=\"white-space:pre;overflow-x:auto;line-height:normal;font-family:Menlo,'DejaVu Sans Mono',consolas,'Courier New',monospace\">A bat and a ball cost $<span style=\"color: #008080; text-decoration-color: #008080; font-weight: bold\">1.10</span> in total. The bat costs $<span style=\"color: #008080; text-decoration-color: #008080; font-weight: bold\">1.00</span> more than the ball. How much does the ball cost? Let's \nthink step by step\n</pre>\n"
          },
          "metadata": {}
        },
        {
          "output_type": "display_data",
          "data": {
            "text/plain": "\u001b[94m──────────────────────────────────────────────────── \u001b[0m\u001b[1;31massistant\u001b[0m\u001b[94m ────────────────────────────────────────────────────\u001b[0m\n",
            "text/html": "<pre style=\"white-space:pre;overflow-x:auto;line-height:normal;font-family:Menlo,'DejaVu Sans Mono',consolas,'Courier New',monospace\"><span style=\"color: #0000ff; text-decoration-color: #0000ff\">──────────────────────────────────────────────────── </span><span style=\"color: #800000; text-decoration-color: #800000; font-weight: bold\">assistant</span><span style=\"color: #0000ff; text-decoration-color: #0000ff\"> ────────────────────────────────────────────────────</span>\n</pre>\n"
          },
          "metadata": {}
        },
        {
          "output_type": "display_data",
          "data": {
            "text/plain": " Step \u001b[1;36m1\u001b[0m: Let's represent the cost of the ball as \u001b[32m\"x\"\u001b[0m. Then, the cost of the bat would be \u001b[32m\"x + $1.00\"\u001b[0m.\n\nStep \u001b[1;36m2\u001b[0m: We know that the total cost of the bat and the ball is $\u001b[1;36m1.10\u001b[0m. So, we can write this as an equation:\n\n\u001b[1m(\u001b[0mx + $\u001b[1;36m1.00\u001b[0m\u001b[1m)\u001b[0m + x = $\u001b[1;36m1.10\u001b[0m\n\nStep \u001b[1;36m3\u001b[0m: Now, we can simplify the equation by combining the terms with \u001b[32m\"x\"\u001b[0m:\n\n2x + $\u001b[1;36m1.00\u001b[0m = $\u001b[1;36m1.10\u001b[0m\n\nStep \u001b[1;36m4\u001b[0m: Next, we can isolate \u001b[32m\"x\"\u001b[0m by subtracting $\u001b[1;36m1.00\u001b[0m from both sides of the equation:\n\n2x = $\u001b[1;36m1.10\u001b[0m - $\u001b[1;36m1.00\u001b[0m\n2x = $\u001b[1;36m0.10\u001b[0m\n\nStep \u001b[1;36m5\u001b[0m: Finally, we can solve for \u001b[32m\"x\"\u001b[0m by dividing both sides of the equation by \u001b[1;36m2\u001b[0m:\n\nx = $\u001b[1;36m0.10\u001b[0m \u001b[35m/\u001b[0m \u001b[1;36m2\u001b[0m\nx = $\u001b[1;36m0.05\u001b[0m\n\nSo, the ball costs $\u001b[1;36m0.05\u001b[0m.\n",
            "text/html": "<pre style=\"white-space:pre;overflow-x:auto;line-height:normal;font-family:Menlo,'DejaVu Sans Mono',consolas,'Courier New',monospace\"> Step <span style=\"color: #008080; text-decoration-color: #008080; font-weight: bold\">1</span>: Let's represent the cost of the ball as <span style=\"color: #008000; text-decoration-color: #008000\">\"x\"</span>. Then, the cost of the bat would be <span style=\"color: #008000; text-decoration-color: #008000\">\"x + $1.00\"</span>.\n\nStep <span style=\"color: #008080; text-decoration-color: #008080; font-weight: bold\">2</span>: We know that the total cost of the bat and the ball is $<span style=\"color: #008080; text-decoration-color: #008080; font-weight: bold\">1.10</span>. So, we can write this as an equation:\n\n<span style=\"font-weight: bold\">(</span>x + $<span style=\"color: #008080; text-decoration-color: #008080; font-weight: bold\">1.00</span><span style=\"font-weight: bold\">)</span> + x = $<span style=\"color: #008080; text-decoration-color: #008080; font-weight: bold\">1.10</span>\n\nStep <span style=\"color: #008080; text-decoration-color: #008080; font-weight: bold\">3</span>: Now, we can simplify the equation by combining the terms with <span style=\"color: #008000; text-decoration-color: #008000\">\"x\"</span>:\n\n2x + $<span style=\"color: #008080; text-decoration-color: #008080; font-weight: bold\">1.00</span> = $<span style=\"color: #008080; text-decoration-color: #008080; font-weight: bold\">1.10</span>\n\nStep <span style=\"color: #008080; text-decoration-color: #008080; font-weight: bold\">4</span>: Next, we can isolate <span style=\"color: #008000; text-decoration-color: #008000\">\"x\"</span> by subtracting $<span style=\"color: #008080; text-decoration-color: #008080; font-weight: bold\">1.00</span> from both sides of the equation:\n\n2x = $<span style=\"color: #008080; text-decoration-color: #008080; font-weight: bold\">1.10</span> - $<span style=\"color: #008080; text-decoration-color: #008080; font-weight: bold\">1.00</span>\n2x = $<span style=\"color: #008080; text-decoration-color: #008080; font-weight: bold\">0.10</span>\n\nStep <span style=\"color: #008080; text-decoration-color: #008080; font-weight: bold\">5</span>: Finally, we can solve for <span style=\"color: #008000; text-decoration-color: #008000\">\"x\"</span> by dividing both sides of the equation by <span style=\"color: #008080; text-decoration-color: #008080; font-weight: bold\">2</span>:\n\nx = $<span style=\"color: #008080; text-decoration-color: #008080; font-weight: bold\">0.10</span> <span style=\"color: #800080; text-decoration-color: #800080\">/</span> <span style=\"color: #008080; text-decoration-color: #008080; font-weight: bold\">2</span>\nx = $<span style=\"color: #008080; text-decoration-color: #008080; font-weight: bold\">0.05</span>\n\nSo, the ball costs $<span style=\"color: #008080; text-decoration-color: #008080; font-weight: bold\">0.05</span>.\n</pre>\n"
          },
          "metadata": {}
        }
      ],
      "execution_count": 15,
      "metadata": {
        "jupyter": {
          "source_hidden": false,
          "outputs_hidden": false
        },
        "nteract": {
          "transient": {
            "deleting": false
          }
        },
        "gather": {
          "logged": 1732527342274
        }
      }
    }
  ],
  "metadata": {
    "kernelspec": {
      "name": "python38-azureml",
      "language": "python",
      "display_name": "Python 3.8 - AzureML"
    },
    "language_info": {
      "name": "python",
      "version": "3.10.11",
      "mimetype": "text/x-python",
      "codemirror_mode": {
        "name": "ipython",
        "version": 3
      },
      "pygments_lexer": "ipython3",
      "nbconvert_exporter": "python",
      "file_extension": ".py"
    },
    "microsoft": {
      "ms_spell_check": {
        "ms_spell_check_language": "en"
      },
      "host": {
        "AzureML": {
          "notebookHasBeenCompleted": true
        }
      }
    },
    "kernel_info": {
      "name": "python38-azureml"
    },
    "nteract": {
      "version": "nteract-front-end@1.0.0"
    }
  },
  "nbformat": 4,
  "nbformat_minor": 2
}